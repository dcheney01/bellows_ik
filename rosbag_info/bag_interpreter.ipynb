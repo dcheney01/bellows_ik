{
 "cells": [
  {
   "cell_type": "code",
   "execution_count": 1,
   "metadata": {},
   "outputs": [],
   "source": [
    "import bagpy\n",
    "from bagpy import bagreader\n",
    "import pandas as pd\n",
    "import seaborn as sea\n",
    "import matplotlib.pyplot as plt\n",
    "import numpy as np"
   ]
  },
  {
   "cell_type": "code",
   "execution_count": 4,
   "metadata": {},
   "outputs": [
    {
     "name": "stdout",
     "output_type": "stream",
     "text": [
      "[INFO]  Data folder /home/daniel/research/catkin_ws/src/bellows_ik/rosbag_info/2022-12-06-10-34-22 already exists. Not creating.\n",
      "[INFO]  Data folder /home/daniel/research/catkin_ws/src/bellows_ik/rosbag_info/2022-12-06-10-35-39 already exists. Not creating.\n",
      "[INFO]  Data folder /home/daniel/research/catkin_ws/src/bellows_ik/rosbag_info/2022-12-06-10-37-04 already exists. Not creating.\n"
     ]
    }
   ],
   "source": [
    "b1 = bagreader('/home/daniel/research/catkin_ws/src/bellows_ik/rosbag_info/2022-12-06-10-34-22.bag')\n",
    "b2 = bagreader('/home/daniel/research/catkin_ws/src/bellows_ik/rosbag_info/2022-12-06-10-35-39.bag')\n",
    "b3 = bagreader('/home/daniel/research/catkin_ws/src/bellows_ik/rosbag_info/2022-12-06-10-37-04.bag')\n",
    "\n",
    "b = [b1, b2, b3]"
   ]
  },
  {
   "cell_type": "code",
   "execution_count": 3,
   "metadata": {},
   "outputs": [
    {
     "data": {
      "text/html": [
       "<div>\n",
       "<style scoped>\n",
       "    .dataframe tbody tr th:only-of-type {\n",
       "        vertical-align: middle;\n",
       "    }\n",
       "\n",
       "    .dataframe tbody tr th {\n",
       "        vertical-align: top;\n",
       "    }\n",
       "\n",
       "    .dataframe thead th {\n",
       "        text-align: right;\n",
       "    }\n",
       "</style>\n",
       "<table border=\"1\" class=\"dataframe\">\n",
       "  <thead>\n",
       "    <tr style=\"text-align: right;\">\n",
       "      <th></th>\n",
       "      <th>Topics</th>\n",
       "      <th>Types</th>\n",
       "      <th>Message Count</th>\n",
       "      <th>Frequency</th>\n",
       "    </tr>\n",
       "  </thead>\n",
       "  <tbody>\n",
       "    <tr>\n",
       "      <th>0</th>\n",
       "      <td>/current_position</td>\n",
       "      <td>geometry_msgs/Point</td>\n",
       "      <td>3596</td>\n",
       "      <td>198.782180</td>\n",
       "    </tr>\n",
       "    <tr>\n",
       "      <th>1</th>\n",
       "      <td>/diagnostics</td>\n",
       "      <td>diagnostic_msgs/DiagnosticArray</td>\n",
       "      <td>42</td>\n",
       "      <td>0.998691</td>\n",
       "    </tr>\n",
       "    <tr>\n",
       "      <th>2</th>\n",
       "      <td>/goal_position</td>\n",
       "      <td>geometry_msgs/Point</td>\n",
       "      <td>9733</td>\n",
       "      <td>200.071742</td>\n",
       "    </tr>\n",
       "    <tr>\n",
       "      <th>3</th>\n",
       "      <td>/joy</td>\n",
       "      <td>sensor_msgs/Joy</td>\n",
       "      <td>771</td>\n",
       "      <td>243.996742</td>\n",
       "    </tr>\n",
       "    <tr>\n",
       "      <th>4</th>\n",
       "      <td>/robo_0/joint_0/angle_state</td>\n",
       "      <td>sensor_msgs/JointState</td>\n",
       "      <td>24335</td>\n",
       "      <td>503.034781</td>\n",
       "    </tr>\n",
       "    <tr>\n",
       "      <th>5</th>\n",
       "      <td>/robo_0/joint_0/joint_cmd</td>\n",
       "      <td>sensor_msgs/JointState</td>\n",
       "      <td>542</td>\n",
       "      <td>24.007235</td>\n",
       "    </tr>\n",
       "    <tr>\n",
       "      <th>6</th>\n",
       "      <td>/robo_0/joint_0/pressure_command</td>\n",
       "      <td>rad_msgs/PressureStamped</td>\n",
       "      <td>4888</td>\n",
       "      <td>100.023943</td>\n",
       "    </tr>\n",
       "    <tr>\n",
       "      <th>7</th>\n",
       "      <td>/robo_0/joint_0/pressure_state</td>\n",
       "      <td>rad_msgs/PressureStamped</td>\n",
       "      <td>18669</td>\n",
       "      <td>361.702656</td>\n",
       "    </tr>\n",
       "    <tr>\n",
       "      <th>8</th>\n",
       "      <td>/robo_0/joint_1/angle_state</td>\n",
       "      <td>sensor_msgs/JointState</td>\n",
       "      <td>24335</td>\n",
       "      <td>503.336613</td>\n",
       "    </tr>\n",
       "    <tr>\n",
       "      <th>9</th>\n",
       "      <td>/robo_0/joint_1/joint_cmd</td>\n",
       "      <td>sensor_msgs/JointState</td>\n",
       "      <td>542</td>\n",
       "      <td>24.078902</td>\n",
       "    </tr>\n",
       "    <tr>\n",
       "      <th>10</th>\n",
       "      <td>/robo_0/joint_1/pressure_command</td>\n",
       "      <td>rad_msgs/PressureStamped</td>\n",
       "      <td>4868</td>\n",
       "      <td>99.938145</td>\n",
       "    </tr>\n",
       "    <tr>\n",
       "      <th>11</th>\n",
       "      <td>/robo_0/joint_1/pressure_state</td>\n",
       "      <td>rad_msgs/PressureStamped</td>\n",
       "      <td>18668</td>\n",
       "      <td>360.800344</td>\n",
       "    </tr>\n",
       "    <tr>\n",
       "      <th>12</th>\n",
       "      <td>/robo_0/joint_2/angle_state</td>\n",
       "      <td>sensor_msgs/JointState</td>\n",
       "      <td>24335</td>\n",
       "      <td>503.669048</td>\n",
       "    </tr>\n",
       "    <tr>\n",
       "      <th>13</th>\n",
       "      <td>/robo_0/joint_2/joint_cmd</td>\n",
       "      <td>sensor_msgs/JointState</td>\n",
       "      <td>542</td>\n",
       "      <td>24.084986</td>\n",
       "    </tr>\n",
       "    <tr>\n",
       "      <th>14</th>\n",
       "      <td>/robo_0/joint_2/pressure_command</td>\n",
       "      <td>rad_msgs/PressureStamped</td>\n",
       "      <td>4858</td>\n",
       "      <td>99.971493</td>\n",
       "    </tr>\n",
       "    <tr>\n",
       "      <th>15</th>\n",
       "      <td>/robo_0/joint_2/pressure_state</td>\n",
       "      <td>rad_msgs/PressureStamped</td>\n",
       "      <td>18668</td>\n",
       "      <td>360.180678</td>\n",
       "    </tr>\n",
       "    <tr>\n",
       "      <th>16</th>\n",
       "      <td>/rosout</td>\n",
       "      <td>rosgraph_msgs/Log</td>\n",
       "      <td>22</td>\n",
       "      <td>13273.113924</td>\n",
       "    </tr>\n",
       "    <tr>\n",
       "      <th>17</th>\n",
       "      <td>/rosout_agg</td>\n",
       "      <td>rosgraph_msgs/Log</td>\n",
       "      <td>19</td>\n",
       "      <td>13934.564784</td>\n",
       "    </tr>\n",
       "    <tr>\n",
       "      <th>18</th>\n",
       "      <td>/tf</td>\n",
       "      <td>tf2_msgs/TFMessage</td>\n",
       "      <td>79688</td>\n",
       "      <td>1254.277512</td>\n",
       "    </tr>\n",
       "    <tr>\n",
       "      <th>19</th>\n",
       "      <td>/visualization_marker</td>\n",
       "      <td>visualization_msgs/Marker</td>\n",
       "      <td>23119</td>\n",
       "      <td>570.731256</td>\n",
       "    </tr>\n",
       "  </tbody>\n",
       "</table>\n",
       "</div>"
      ],
      "text/plain": [
       "                              Topics                            Types  \\\n",
       "0                  /current_position              geometry_msgs/Point   \n",
       "1                       /diagnostics  diagnostic_msgs/DiagnosticArray   \n",
       "2                     /goal_position              geometry_msgs/Point   \n",
       "3                               /joy                  sensor_msgs/Joy   \n",
       "4        /robo_0/joint_0/angle_state           sensor_msgs/JointState   \n",
       "5          /robo_0/joint_0/joint_cmd           sensor_msgs/JointState   \n",
       "6   /robo_0/joint_0/pressure_command         rad_msgs/PressureStamped   \n",
       "7     /robo_0/joint_0/pressure_state         rad_msgs/PressureStamped   \n",
       "8        /robo_0/joint_1/angle_state           sensor_msgs/JointState   \n",
       "9          /robo_0/joint_1/joint_cmd           sensor_msgs/JointState   \n",
       "10  /robo_0/joint_1/pressure_command         rad_msgs/PressureStamped   \n",
       "11    /robo_0/joint_1/pressure_state         rad_msgs/PressureStamped   \n",
       "12       /robo_0/joint_2/angle_state           sensor_msgs/JointState   \n",
       "13         /robo_0/joint_2/joint_cmd           sensor_msgs/JointState   \n",
       "14  /robo_0/joint_2/pressure_command         rad_msgs/PressureStamped   \n",
       "15    /robo_0/joint_2/pressure_state         rad_msgs/PressureStamped   \n",
       "16                           /rosout                rosgraph_msgs/Log   \n",
       "17                       /rosout_agg                rosgraph_msgs/Log   \n",
       "18                               /tf               tf2_msgs/TFMessage   \n",
       "19             /visualization_marker        visualization_msgs/Marker   \n",
       "\n",
       "    Message Count     Frequency  \n",
       "0            3596    198.782180  \n",
       "1              42      0.998691  \n",
       "2            9733    200.071742  \n",
       "3             771    243.996742  \n",
       "4           24335    503.034781  \n",
       "5             542     24.007235  \n",
       "6            4888    100.023943  \n",
       "7           18669    361.702656  \n",
       "8           24335    503.336613  \n",
       "9             542     24.078902  \n",
       "10           4868     99.938145  \n",
       "11          18668    360.800344  \n",
       "12          24335    503.669048  \n",
       "13            542     24.084986  \n",
       "14           4858     99.971493  \n",
       "15          18668    360.180678  \n",
       "16             22  13273.113924  \n",
       "17             19  13934.564784  \n",
       "18          79688   1254.277512  \n",
       "19          23119    570.731256  "
      ]
     },
     "execution_count": 3,
     "metadata": {},
     "output_type": "execute_result"
    }
   ],
   "source": [
    "b1.topic_table # to see all of the topics in the bag file\n",
    "# We want to create a plot for error in end effector position so we are only interested in:\n",
    "    # /goal_position\n",
    "    # /current_position"
   ]
  },
  {
   "cell_type": "code",
   "execution_count": 5,
   "metadata": {},
   "outputs": [
    {
     "data": {
      "text/plain": [
       "'/home/daniel/research/catkin_ws/src/bellows_ik/rosbag_info/2022-12-06-10-34-22/goal_position.csv'"
      ]
     },
     "execution_count": 5,
     "metadata": {},
     "output_type": "execute_result"
    }
   ],
   "source": [
    "GOAL_MSG = []\n",
    "CURRENT_MSG = []\n",
    "\n",
    "# Get the goal positions and the current positions for each bag file\n",
    "for bag in b:\n",
    "    GOAL_MSG.append(bag.message_by_topic(\"/goal_position\"))\n",
    "    CURRENT_MSG.append(bag.message_by_topic(\"/current_position\"))\n"
   ]
  },
  {
   "cell_type": "code",
   "execution_count": 83,
   "metadata": {},
   "outputs": [],
   "source": [
    "def plot_df(df):\n",
    "    fig, ax = bagpy.create_fig(1)\n",
    "    ax[0].scatter(x='Time', y='x', data=df)\n",
    "    ax[0].scatter(x='Time', y='y', data=df)\n",
    "    ax[0].scatter(x='Time', y='z', data=df)\n",
    "    plt.show()"
   ]
  },
  {
   "cell_type": "code",
   "execution_count": 14,
   "metadata": {},
   "outputs": [],
   "source": [
    "goal_df = []\n",
    "current_df= []\n",
    "# Convert messages into data frames in pandas\n",
    "for i in range(len(b)):\n",
    "    goal_df.append(pd.read_csv(GOAL_MSG[i]))\n",
    "    current_df.append(pd.read_csv(CURRENT_MSG[i]))\n"
   ]
  },
  {
   "cell_type": "code",
   "execution_count": 19,
   "metadata": {},
   "outputs": [],
   "source": [
    "goal_df = goal_df[0]\n",
    "current_df = current_df[0]"
   ]
  },
  {
   "cell_type": "code",
   "execution_count": 60,
   "metadata": {},
   "outputs": [],
   "source": [
    "# Get the time to start at 15 s for both data_frames\n",
    "goal_df['Time'] = goal_df['Time'].subtract(goal_df['Time'].iat[0] + 15)\n",
    "\n",
    "current_df['Time'] = current_df['Time'].subtract(current_df['Time'].iat[0] + 15)"
   ]
  },
  {
   "cell_type": "code",
   "execution_count": 92,
   "metadata": {},
   "outputs": [
    {
     "data": {
      "text/html": [
       "<div>\n",
       "<style scoped>\n",
       "    .dataframe tbody tr th:only-of-type {\n",
       "        vertical-align: middle;\n",
       "    }\n",
       "\n",
       "    .dataframe tbody tr th {\n",
       "        vertical-align: top;\n",
       "    }\n",
       "\n",
       "    .dataframe thead th {\n",
       "        text-align: right;\n",
       "    }\n",
       "</style>\n",
       "<table border=\"1\" class=\"dataframe\">\n",
       "  <thead>\n",
       "    <tr style=\"text-align: right;\">\n",
       "      <th></th>\n",
       "      <th>Time</th>\n",
       "      <th>x</th>\n",
       "      <th>y</th>\n",
       "      <th>z</th>\n",
       "    </tr>\n",
       "  </thead>\n",
       "  <tbody>\n",
       "    <tr>\n",
       "      <th>3029</th>\n",
       "      <td>0.004057</td>\n",
       "      <td>0.122937</td>\n",
       "      <td>0.636969</td>\n",
       "      <td>0.637813</td>\n",
       "    </tr>\n",
       "    <tr>\n",
       "      <th>3040</th>\n",
       "      <td>0.058970</td>\n",
       "      <td>0.122937</td>\n",
       "      <td>0.636969</td>\n",
       "      <td>0.637813</td>\n",
       "    </tr>\n",
       "    <tr>\n",
       "      <th>3051</th>\n",
       "      <td>0.113986</td>\n",
       "      <td>0.122937</td>\n",
       "      <td>0.636969</td>\n",
       "      <td>0.637813</td>\n",
       "    </tr>\n",
       "    <tr>\n",
       "      <th>3062</th>\n",
       "      <td>0.168936</td>\n",
       "      <td>0.122937</td>\n",
       "      <td>0.636969</td>\n",
       "      <td>0.637813</td>\n",
       "    </tr>\n",
       "    <tr>\n",
       "      <th>3073</th>\n",
       "      <td>0.223957</td>\n",
       "      <td>0.122937</td>\n",
       "      <td>0.636969</td>\n",
       "      <td>0.637813</td>\n",
       "    </tr>\n",
       "    <tr>\n",
       "      <th>...</th>\n",
       "      <td>...</td>\n",
       "      <td>...</td>\n",
       "      <td>...</td>\n",
       "      <td>...</td>\n",
       "    </tr>\n",
       "    <tr>\n",
       "      <th>9519</th>\n",
       "      <td>32.453881</td>\n",
       "      <td>0.537787</td>\n",
       "      <td>-0.423449</td>\n",
       "      <td>0.356810</td>\n",
       "    </tr>\n",
       "    <tr>\n",
       "      <th>9530</th>\n",
       "      <td>32.508924</td>\n",
       "      <td>0.537787</td>\n",
       "      <td>-0.423449</td>\n",
       "      <td>0.356810</td>\n",
       "    </tr>\n",
       "    <tr>\n",
       "      <th>9541</th>\n",
       "      <td>32.563938</td>\n",
       "      <td>0.537787</td>\n",
       "      <td>-0.423449</td>\n",
       "      <td>0.356810</td>\n",
       "    </tr>\n",
       "    <tr>\n",
       "      <th>9552</th>\n",
       "      <td>32.618870</td>\n",
       "      <td>0.537787</td>\n",
       "      <td>-0.423449</td>\n",
       "      <td>0.356810</td>\n",
       "    </tr>\n",
       "    <tr>\n",
       "      <th>9563</th>\n",
       "      <td>32.673954</td>\n",
       "      <td>0.537787</td>\n",
       "      <td>-0.423449</td>\n",
       "      <td>0.356810</td>\n",
       "    </tr>\n",
       "  </tbody>\n",
       "</table>\n",
       "<p>595 rows × 4 columns</p>\n",
       "</div>"
      ],
      "text/plain": [
       "           Time         x         y         z\n",
       "3029   0.004057  0.122937  0.636969  0.637813\n",
       "3040   0.058970  0.122937  0.636969  0.637813\n",
       "3051   0.113986  0.122937  0.636969  0.637813\n",
       "3062   0.168936  0.122937  0.636969  0.637813\n",
       "3073   0.223957  0.122937  0.636969  0.637813\n",
       "...         ...       ...       ...       ...\n",
       "9519  32.453881  0.537787 -0.423449  0.356810\n",
       "9530  32.508924  0.537787 -0.423449  0.356810\n",
       "9541  32.563938  0.537787 -0.423449  0.356810\n",
       "9552  32.618870  0.537787 -0.423449  0.356810\n",
       "9563  32.673954  0.537787 -0.423449  0.356810\n",
       "\n",
       "[595 rows x 4 columns]"
      ]
     },
     "execution_count": 92,
     "metadata": {},
     "output_type": "execute_result"
    }
   ],
   "source": [
    "# make goal and current df the same size\n",
    "smaller_current_df = current_df[3001:]\n",
    "smaller_current_df\n",
    "\n",
    "\n",
    "smaller_goal_df = goal_df[3029:]\n",
    "smaller_goal_df = smaller_goal_df[::11]\n",
    "smaller_goal_df = smaller_goal_df[:-15]\n",
    "smaller_goal_df"
   ]
  },
  {
   "cell_type": "code",
   "execution_count": 93,
   "metadata": {},
   "outputs": [],
   "source": [
    "# Get the error for each direction into one data_frame\n",
    "error_df =pd.DataFrame()\n",
    "# for i in range(len(b)):\n",
    "error_df['x'] = smaller_goal_df['x'] - smaller_current_df['x']\n",
    "error_df['y'] = smaller_goal_df['y'] - smaller_current_df['y']\n",
    "error_df['z'] = smaller_goal_df['z'] - smaller_current_df['z']"
   ]
  },
  {
   "cell_type": "code",
   "execution_count": 94,
   "metadata": {},
   "outputs": [
    {
     "data": {
      "text/plain": [
       "3001    0.117215\n",
       "3002    0.117229\n",
       "3003    0.117237\n",
       "3004    0.117260\n",
       "3005    0.117253\n",
       "          ...   \n",
       "3591    0.576675\n",
       "3592    0.580387\n",
       "3593    0.584241\n",
       "3594    0.576255\n",
       "3595    0.566797\n",
       "Name: x, Length: 595, dtype: float64"
      ]
     },
     "execution_count": 94,
     "metadata": {},
     "output_type": "execute_result"
    }
   ],
   "source": [
    "smaller_current_df['x']"
   ]
  },
  {
   "cell_type": "code",
   "execution_count": 95,
   "metadata": {},
   "outputs": [
    {
     "data": {
      "text/plain": [
       "3029    0.122937\n",
       "3040    0.122937\n",
       "3051    0.122937\n",
       "3062    0.122937\n",
       "3073    0.122937\n",
       "          ...   \n",
       "9519    0.537787\n",
       "9530    0.537787\n",
       "9541    0.537787\n",
       "9552    0.537787\n",
       "9563    0.537787\n",
       "Name: x, Length: 595, dtype: float64"
      ]
     },
     "execution_count": 95,
     "metadata": {},
     "output_type": "execute_result"
    }
   ],
   "source": [
    "smaller_goal_df['x']"
   ]
  },
  {
   "cell_type": "code",
   "execution_count": null,
   "metadata": {},
   "outputs": [],
   "source": []
  },
  {
   "cell_type": "code",
   "execution_count": 10,
   "metadata": {},
   "outputs": [
    {
     "data": {
      "text/plain": [
       "Index(['Time', 'x', 'y', 'z'], dtype='object')"
      ]
     },
     "execution_count": 10,
     "metadata": {},
     "output_type": "execute_result"
    }
   ],
   "source": [
    "goal_df[0].columns"
   ]
  },
  {
   "cell_type": "code",
   "execution_count": 12,
   "metadata": {},
   "outputs": [
    {
     "data": {
      "image/png": "[encoded data removed]",
      "text/plain": [
       "<Figure size 1200x600 with 1 Axes>"
      ]
     },
     "metadata": {},
     "output_type": "display_data"
    }
   ],
   "source": [
    "\n",
    "\n",
    "plt.show()"
   ]
  }
 ],
 "metadata": {
  "kernelspec": {
   "display_name": "Python 3.8.10 64-bit",
   "language": "python",
   "name": "python3"
  },
  "language_info": {
   "codemirror_mode": {
    "name": "ipython",
    "version": 3
   },
   "file_extension": ".py",
   "mimetype": "text/x-python",
   "name": "python",
   "nbconvert_exporter": "python",
   "pygments_lexer": "ipython3",
   "version": "3.8.10"
  },
  "orig_nbformat": 4,
  "vscode": {
   "interpreter": {
    "hash": "e7370f93d1d0cde622a1f8e1c04877d8463912d04d973331ad4851f04de6915a"
   }
  }
 },
 "nbformat": 4,
 "nbformat_minor": 2
}
